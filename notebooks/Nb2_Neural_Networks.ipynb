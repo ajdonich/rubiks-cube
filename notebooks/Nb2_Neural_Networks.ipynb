{
 "cells": [
  {
   "cell_type": "markdown",
   "metadata": {},
   "source": [
    "## Exploring Neural Network Solutions\n",
    "\n",
    "___\n",
    "\n",
    "\n",
    "This Notebook demonstrates three of my unsuccessful attempts to apply statistical learning to Rubik's cube. The best results come from the second attempt (below), which, incidientally, is the only version that formats inputs in one-hot format. The networks used are 5 layers deep and fully connected; the are policy networks with a softmax output across the 18 possible moves.\n",
    "\n",
    "Note that I'm using preprocessed inputs in each demonstration (though not explicity demonstrated, similarly unsatisfactory results occur with straight facelet positions):\n",
    "1. first the dance heuristic\n",
    "2. then a squared difference measure beteen adjacent facelets (this is akin to my entropy/order heuristic)\n",
    "3. finally a dot-product measure between adjacent facelets. \n",
    "\n",
    "My training and validation datasets are generated based on a simple \"reverse-scramble\" methodology for estimating what the appropriate next move is for a given cube permutation. For details of network architecture and dataset construction, see [NNSolver](../rubiks/solver/NNSolver.py)\n",
    "\n",
    "For good measure, I demonstrate 20 move solution predictions from the trained networks. As you can see, the networks tend to fall into ruts of redundant move sequences (e.g. just rotating one side over and over by 90 degrees -90, 90, -90, 90, ad nauseam). Such rutted predictions are arguably less effective even than totally random move selection.\n",
    "\n",
    "___\n"
   ]
  },
  {
   "cell_type": "code",
   "execution_count": null,
   "metadata": {},
   "outputs": [],
   "source": [
    "import sys\n",
    "\n",
    "# This for managing relative imports from nb\n",
    "if '..' not in sys.path: sys.path.append('..')\n",
    "\n",
    "import keras\n",
    "import numpy as np\n",
    "import matplotlib.pyplot as plt\n",
    "\n",
    "from rubiks.model.CubeView import CubeView\n",
    "from rubiks.model.DirectCube import DirectCube\n",
    "from rubiks.model.VectorCube import VectorCube, color_name\n",
    "\n",
    "from rubiks.solver.NNSolver import NNSolver\n",
    "from rubiks.solver.DirectSolver import DirectSolver"
   ]
  },
  {
   "cell_type": "code",
   "execution_count": null,
   "metadata": {},
   "outputs": [],
   "source": [
    "# This first (and my most recent) attempt explores the viability of a statistical\n",
    "# correlation between the Dance heuristics and move sequences. Results are pretty\n",
    "# dismal, ~20/17% accuracy on train/validation. \n",
    "\n",
    "nnsolver = NNSolver()\n",
    "\n",
    "# Dance version\n",
    "X, Yoh, Xval, Yohval = nnsolver.generate_dataset(nnsolver.create_dance_input)\n",
    "policy_model = nnsolver.create_policy_model(input_dim=216)"
   ]
  },
  {
   "cell_type": "code",
   "execution_count": null,
   "metadata": {},
   "outputs": [],
   "source": [
    "history = policy_model.fit(X, Yoh, validation_data=(Xval, Yohval), callbacks=nnsolver.early_stop, batch_size=256, epochs=25)"
   ]
  },
  {
   "cell_type": "code",
   "execution_count": null,
   "metadata": {},
   "outputs": [],
   "source": [
    "# List all data in history\n",
    "print(history.history.keys())\n",
    "\n",
    "# Plot with respect to accuracy\n",
    "plt.figure(1)\n",
    "plt.plot(history.history['categorical_accuracy'])\n",
    "plt.plot(history.history['val_categorical_accuracy'])\n",
    "plt.title('Model Accuracy')\n",
    "plt.ylabel('Accuracy')\n",
    "plt.xlabel('Epoch')\n",
    "plt.legend(['train', 'validate'], loc='upper left')\n",
    "\n",
    "# Plot with respect to loss\n",
    "plt.figure(2)\n",
    "plt.plot(history.history['loss'])\n",
    "plt.plot(history.history['val_loss'])\n",
    "plt.title('Model Loss')\n",
    "plt.ylabel('Loss')\n",
    "plt.xlabel('Epoch')\n",
    "plt.legend(['train', 'validate'], loc='upper left')"
   ]
  },
  {
   "cell_type": "code",
   "execution_count": null,
   "metadata": {},
   "outputs": [],
   "source": [
    "# This cell depicts 20 moves predicted by the dance model just trained.\n",
    "\n",
    "cube = DirectCube().scramble()\n",
    "view = CubeView(cube)\n",
    "view.push_snapshot()\n",
    "\n",
    "for i in range(20):\n",
    "    dance_input = nnsolver.create_dance_input(cube).reshape((1,216))\n",
    "    mv = VectorCube.MOVES[np.argmax(policy_model.predict(dance_input))]\n",
    "    caption = f\"{color_name(mv[0])}({mv[1]}) : {DirectSolver.generate_hstate(cube)}\"\n",
    "    cube.rotate(mv); view.push_snapshot(caption=caption)\n",
    "    \n",
    "view.draw_snapshots()"
   ]
  },
  {
   "cell_type": "code",
   "execution_count": null,
   "metadata": {},
   "outputs": [],
   "source": [
    "# Diff version (generates input in one-hot format)\n",
    "Xoh, Yoh, Xohval, Yohval = nnsolver.generate_dataset(nnsolver.create_diffsq_input)\n",
    "policy_model = nnsolver.create_policy_model(input_dim=4320)"
   ]
  },
  {
   "cell_type": "code",
   "execution_count": null,
   "metadata": {},
   "outputs": [],
   "source": [
    "history = policy_model.fit(Xoh, Yoh, validation_data=(Xohval, Yohval), callbacks=nnsolver.early_stop, batch_size=256, epochs=10)"
   ]
  },
  {
   "cell_type": "code",
   "execution_count": null,
   "metadata": {},
   "outputs": [],
   "source": [
    "# List all data in history\n",
    "print(history.history.keys())\n",
    "\n",
    "# Plot with respect to accuracy\n",
    "plt.figure(1)\n",
    "plt.plot(history.history['categorical_accuracy'])\n",
    "plt.plot(history.history['val_categorical_accuracy'])\n",
    "plt.title('Model Accuracy')\n",
    "plt.ylabel('Accuracy')\n",
    "plt.xlabel('Epoch')\n",
    "plt.legend(['train', 'validate'], loc='upper left')\n",
    "\n",
    "# Plot with respect to loss\n",
    "plt.figure(2)\n",
    "plt.plot(history.history['loss'])\n",
    "plt.plot(history.history['val_loss'])\n",
    "plt.title('Model Loss')\n",
    "plt.ylabel('Loss')\n",
    "plt.xlabel('Epoch')\n",
    "plt.legend(['train', 'validate'], loc='upper left')"
   ]
  },
  {
   "cell_type": "code",
   "execution_count": null,
   "metadata": {},
   "outputs": [],
   "source": [
    "# This cell depicts 20 moves predicted by the squared-difference model just trained.\n",
    "\n",
    "cube = DirectCube().scramble()\n",
    "view = CubeView(cube)\n",
    "view.push_snapshot()\n",
    "\n",
    "for i in range(20):\n",
    "    oh_input = nnsolver.create_diffsq_input(cube).reshape((1,4320))\n",
    "    mv = VectorCube.MOVES[np.argmax(policy_model.predict(oh_input))]\n",
    "    caption = f\"{color_name(mv[0])}({mv[1]}) : {DirectSolver.generate_hstate(cube)}\"\n",
    "    cube.rotate(mv); view.push_snapshot(caption=caption)\n",
    "    \n",
    "view.draw_snapshots()"
   ]
  },
  {
   "cell_type": "code",
   "execution_count": null,
   "metadata": {},
   "outputs": [],
   "source": [
    "# Dot version - results meager at best, ~30% accuracy tops\n",
    "X, Yoh, Xval, Yohval = nnsolver.generate_dataset(nnsolver.create_dot_input)\n",
    "policy_model = nnsolver.create_policy_model(input_dim=72)"
   ]
  },
  {
   "cell_type": "code",
   "execution_count": null,
   "metadata": {},
   "outputs": [],
   "source": [
    "history = policy_model.fit(X, Yoh, validation_data=(Xval, Yohval), callbacks=nnsolver.early_stop, batch_size=256, epochs=25)"
   ]
  },
  {
   "cell_type": "code",
   "execution_count": null,
   "metadata": {},
   "outputs": [],
   "source": [
    "# List all data in history\n",
    "print(history.history.keys())\n",
    "\n",
    "# Plot with respect to accuracy\n",
    "plt.figure(1)\n",
    "plt.plot(history.history['categorical_accuracy'])\n",
    "plt.plot(history.history['val_categorical_accuracy'])\n",
    "plt.title('Model Accuracy')\n",
    "plt.ylabel('Accuracy')\n",
    "plt.xlabel('Epoch')\n",
    "plt.legend(['train', 'validate'], loc='upper left')\n",
    "\n",
    "# Plot with respect to loss\n",
    "plt.figure(2)\n",
    "plt.plot(history.history['loss'])\n",
    "plt.plot(history.history['val_loss'])\n",
    "plt.title('Model Loss')\n",
    "plt.ylabel('Loss')\n",
    "plt.xlabel('Epoch')\n",
    "plt.legend(['train', 'validate'], loc='upper left')"
   ]
  },
  {
   "cell_type": "code",
   "execution_count": null,
   "metadata": {},
   "outputs": [],
   "source": [
    "# This cell depicts 20 moves predicted by the dot-product model just trained.\n",
    "\n",
    "cube = DirectCube().scramble()\n",
    "view = CubeView(cube)\n",
    "view.push_snapshot()\n",
    "\n",
    "for i in range(20):\n",
    "    dot_input = nnsolver.create_dot_input(cube).reshape((1,72))\n",
    "    mv = VectorCube.MOVES[np.argmax(policy_model.predict(dot_input))]\n",
    "    caption = f\"{color_name(mv[0])}({mv[1]}) : {DirectSolver.generate_hstate(cube)}\"\n",
    "    cube.rotate(mv); view.push_snapshot(caption=caption)\n",
    "    \n",
    "view.draw_snapshots()"
   ]
  },
  {
   "cell_type": "code",
   "execution_count": null,
   "metadata": {},
   "outputs": [],
   "source": []
  }
 ],
 "metadata": {
  "kernelspec": {
   "display_name": "Python 3",
   "language": "python",
   "name": "python3"
  },
  "language_info": {
   "codemirror_mode": {
    "name": "ipython",
    "version": 3
   },
   "file_extension": ".py",
   "mimetype": "text/x-python",
   "name": "python",
   "nbconvert_exporter": "python",
   "pygments_lexer": "ipython3",
   "version": "3.7.2"
  }
 },
 "nbformat": 4,
 "nbformat_minor": 2
}
