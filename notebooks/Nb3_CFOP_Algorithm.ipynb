{
 "cells": [
  {
   "cell_type": "markdown",
   "metadata": {},
   "source": [
    "## Emulating Fridrich’s (CFOP) Human Speedcubing Algorithm \n",
    "\n",
    "___\n",
    "\n",
    "\n",
    "This Notebook demonstrates my first successful Rubik's cube solution using an implementation of the (cube-)layer based solution strategy: CFOP. Albeit, the last layer employs an easily searchable set of about 80 explicitly defined move sequences that were developed (primarily) by Jessica Fridrich back in the 80's (see [CFOP_OLL_ALGS.TXT](../data/CFOP_OLL_ALGS.TXT) and [CFOP_PLL_ALGS.TXT](../data/CFOP_PLL_ALGS.TXT) for the explict Singmaster move sequences employed during the OLL and PLL stages).\n",
    "\n",
    "The first two stages, Cross and F2L, are solved using a stepped series of UCB tree searches. A typical (successful) search will likely generate between 5-15 million nodes in total and visit about a 40-45% of those. It usually takes 5-10 minutes to converge to a solution, though it can take over 20 at times and some cubes fail to converge at all (using my default configuation parameters anyway).\n",
    "\n",
    "For reference, the lion's share of the solution logic here is contained in the [CfopSolver](../rubiks/solver/CfopSolver.py) and [CfopState](../rubiks/solver/CfopState.py) classes.\n",
    "\n",
    "___\n"
   ]
  },
  {
   "cell_type": "code",
   "execution_count": null,
   "metadata": {},
   "outputs": [],
   "source": [
    "import sys\n",
    "\n",
    "# This for managing relative imports from nb\n",
    "if '..' not in sys.path: sys.path.append('..')\n",
    "\n",
    "import numpy as np\n",
    "from IPython.display import HTML\n",
    "\n",
    "from rubiks.model.CubeView import CubeView\n",
    "from rubiks.model.CfopCube import CfopCube\n",
    "from rubiks.model.SMAdapter import SMAdapter\n",
    "from rubiks.model.VectorCube import VectorCube, color_name, color_letr\n",
    "\n",
    "from rubiks.solver.CfopState import F2LStateOrbit\n",
    "from rubiks.solver.CfopSolver import CfopSolver\n",
    "from rubiks.solver.FaceletSolver import FaceletSolver"
   ]
  },
  {
   "cell_type": "code",
   "execution_count": null,
   "metadata": {},
   "outputs": [],
   "source": [
    "%%time\n",
    "\n",
    "# This cell pre-computes a few hash tables used later in heuristics \n",
    "# and the CFOP tree-search logic. It will take a few minutes to complete.\n",
    "\n",
    "fsolver = FaceletSolver()\n",
    "sequence_hash = fsolver.create_sequence_hash(wildcard=False)\n",
    "heuristic_hash = fsolver.create_heuristic_hash(sequence_hash)\n",
    "\n",
    "# Force pre-compute of static 5-deep orbits\n",
    "oblk = F2LStateOrbit.get_orbit_pairs([38,41])"
   ]
  },
  {
   "cell_type": "code",
   "execution_count": null,
   "metadata": {},
   "outputs": [],
   "source": [
    "# This cell generates starting_cube using a random scramble sequence.\n",
    "# You can run multiple searches on this same particular scramble by\n",
    "# simply NOT re-running this cell between searches.\n",
    "\n",
    "starting_cube = CfopCube()\n",
    "moves, invmoves = starting_cube.trace_scramble(sz=20, apply_moves=True)"
   ]
  },
  {
   "cell_type": "code",
   "execution_count": null,
   "metadata": {},
   "outputs": [],
   "source": [
    "# This cell initiates the tree search cube: cfop_cube from starting_cube. Re-run this \n",
    "# cell to initiate a \"fresh\" search from the starting_cube permutation, or do NOT\n",
    "# re-run it to \"continue\" a search from the cube state achieved on the previous pass. \n",
    "\n",
    "cfop_cube = CfopCube(starting_cube)\n",
    "CfopSolver.ref_moves = invmoves\n",
    "print(\"Starting heuristic:\", fsolver.heuristic(cfop_cube))\n",
    "print(\"Inverted scramble moves:\", CfopSolver.ref_moves)\n",
    "CubeView(cfop_cube).draw_projection()"
   ]
  },
  {
   "cell_type": "code",
   "execution_count": null,
   "metadata": {},
   "outputs": [],
   "source": [
    "%%time\n",
    "\n",
    "# Default search configs\n",
    "FIRST_PASS = 50000\n",
    "SECOND_PASS = 100000\n",
    "\n",
    "# This kicks off the actual UCB tree search algorithm\n",
    "solved, moves, solve_state = CfopSolver.cfop_solve(fsolver, cfop_cube, pass1_iters=FIRST_PASS, pass2_iters=SECOND_PASS)"
   ]
  },
  {
   "cell_type": "markdown",
   "metadata": {},
   "source": [
    "## Animating the Solutions \n",
    "\n",
    "___\n",
    "\n",
    "\n",
    "The next two cells animate both the solution sequence found by the tree search and, subsequently, the trivial but relatively efficient \"reverse-scramble\" sequence. Both animations employ an alpha mask on any facelet not at its home position. These visualization really demonstrated to me a fundamental distinction between a human solving strategy, that obviously builds up to a solution, versus a more efficient one that must be operating on some other, perhaps entropy-like, ordering principle.\n",
    "\n",
    "___\n"
   ]
  },
  {
   "cell_type": "code",
   "execution_count": null,
   "metadata": {},
   "outputs": [],
   "source": [
    "print(f\"Tree Search: {len(moves)} moves to solve cube:\\n{[f'({color_letr(mv[0])}:{mv[1]})' for mv in moves]}\\n\")\n",
    "\n",
    "inner_cube = CfopCube(starting_cube)\n",
    "adapter = SMAdapter(inner_cube)\n",
    "view = CubeView(adapter)\n",
    "\n",
    "view.record_moves()\n",
    "for mv in moves:\n",
    "    nhome_mask = np.nonzero(sum(inner_cube.facelet_matrix[2:] != CfopCube._facelet_matrix[2:]) > 0)[0]\n",
    "    adapter.rotate_local(mv, alpha_masks=nhome_mask)\n",
    "\n",
    "adapter.rotate_singmaster_seq(['Y2', 'Y2'])\n",
    "view.record_moves(stop_recording=True)\n",
    "print(\"Rendering animation...\")\n",
    "HTML(view.get_animation_3d().to_jshtml())"
   ]
  },
  {
   "cell_type": "code",
   "execution_count": null,
   "metadata": {},
   "outputs": [],
   "source": [
    "print(f\"Reverse-scramble: {len(CfopSolver.ref_moves)} moves to solve cube:\\n\"\n",
    "      f\"{[f'({color_letr(mv[0])}:{mv[1]})' for mv in CfopSolver.ref_moves]}\\n\")\n",
    "\n",
    "inner_cube = CfopCube(starting_cube)\n",
    "adapter = SMAdapter(inner_cube)\n",
    "view = CubeView(adapter)\n",
    "\n",
    "view.record_moves()\n",
    "for mv in CfopSolver.ref_moves:\n",
    "    nhome_mask = np.nonzero(sum(inner_cube.facelet_matrix[2:] != CfopCube._facelet_matrix[2:]) > 0)[0]\n",
    "    adapter.rotate_local(mv, alpha_masks=nhome_mask)\n",
    "\n",
    "adapter.rotate_singmaster_seq(['Y2', 'Y2'])\n",
    "view.record_moves(stop_recording=True)\n",
    "print(\"Rendering animation...\")\n",
    "HTML(view.get_animation_3d().to_jshtml())"
   ]
  },
  {
   "cell_type": "code",
   "execution_count": null,
   "metadata": {},
   "outputs": [],
   "source": []
  }
 ],
 "metadata": {
  "kernelspec": {
   "display_name": "Python 3",
   "language": "python",
   "name": "python3"
  },
  "language_info": {
   "codemirror_mode": {
    "name": "ipython",
    "version": 3
   },
   "file_extension": ".py",
   "mimetype": "text/x-python",
   "name": "python",
   "nbconvert_exporter": "python",
   "pygments_lexer": "ipython3",
   "version": "3.7.2"
  }
 },
 "nbformat": 4,
 "nbformat_minor": 2
}
