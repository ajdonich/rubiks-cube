{
 "cells": [
  {
   "cell_type": "code",
   "execution_count": 258,
   "metadata": {},
   "outputs": [],
   "source": [
    "import matplotlib\n",
    "import matplotlib.pyplot as plt\n",
    "from IPython.display import HTML\n",
    "import numpy as np\n",
    "\n",
    "from CubeView import CubeView\n",
    "from SMAdapter import SMAdapter\n",
    "from DirectCube import DirectCube\n",
    "\n",
    "from CyclicSolver import CyclicSolver\n",
    "from DirectSolver import DirectSolver\n",
    "from FaceletSolver import FaceletSolver\n",
    "\n",
    "from UCTNode import UCTNode, HeuristicState\n",
    "from CfopState import CfopState, FullCubeState, CrossState, F2LState, F2LStateEntropy, OLLState, PLLState\n",
    "from VectorCube import VectorCube, color_name, color_letr, WHITE_CB, ORANGE_CB, GREEN_CB, RED_CB, BLUE_CB, YELLOW_CB, SIDES"
   ]
  },
  {
   "cell_type": "markdown",
   "metadata": {},
   "source": [
    "## Project: rubiks-cube \n",
    "\n",
    "This project is a collection of Python classes developed to explore algorithmic solutions to Rubik's Cube. The repository contains a set of notebooks to walk interested parties through my progress with the puzzle thus far, and highlight some features of the classes for modeling and displaying the cube contained herein. For a preliminary and complete explanation of my solution strategies thus far, please peruse the blog article referenced above.\n",
    "\n",
    "___\n",
    "\n",
    "\n",
    "### Installation:\n",
    "\n",
    "The repository is setup for pipenv configuration management, thus you'll find a Pipfile rather than requirements.txt file.  \n",
    "You may access installation instructions for pipenv here: [Pipenv Installation Instructions](https://pypi.org/project/pipenv/)\n",
    "\n",
    "Once pipenv has been successfully installed, the following commands may be executes to install the rubiks-cube project:\n",
    "\n",
    "```\n",
    "$ git clone https://github.com/ajdonich/rubiks-cube\n",
    "$ cd rubik-cube\n",
    "$ pipenv install\n",
    "$ pipenv --dev install\n",
    "```\n",
    "\n",
    "___\n",
    "\n",
    "\n",
    "### Execution:\n",
    "\n",
    "To understand the specifics of this project, please step through the interactive set of IPython/Jupyter notebooks provided. First, launch a notebook session from the command line using:\n",
    "\n",
    "```\n",
    "$ pipenv shell\n",
    "$ jupyter lab\n",
    "```\n",
    "\n",
    "Then from within the notebook session that is launched in your browser, navigate to the notebooks directory. This directory contains this set of .ipynb files:\n",
    "\n",
    "1. Nb1_Intro_Cube_View.ipynb\n",
    "2. Nb2_Neural_Networks.ipynb\n",
    "3. Nb3_CFOP_Algorithm.ipynb\n",
    "4. Nb4_Cycles_Entropy.ipynb\n",
    "\n",
    "Please step through these files, titled numerical with the suggested running order. Execute each cell of each notebook in turn, exploring the code execution output. You'll also find a number of markdown cells with further descriptive details. I hope you find the demonstrations interesting and enjoyable! \n",
    "\n"
   ]
  },
  {
   "cell_type": "code",
   "execution_count": 259,
   "metadata": {},
   "outputs": [],
   "source": [
    "csolver = CyclicSolver()"
   ]
  },
  {
   "cell_type": "code",
   "execution_count": 260,
   "metadata": {},
   "outputs": [
    {
     "data": {
      "text/plain": [
       "{4, 5, 6, 7, 8}"
      ]
     },
     "execution_count": 260,
     "metadata": {},
     "output_type": "execute_result"
    }
   ],
   "source": [
    "starting_cube = DirectCube()\n",
    "moves, invmoves = starting_cube.trace_scramble(sz=20, apply_moves=True)\n",
    "starting_hstate = DirectSolver.generate_hstate(starting_cube)\n",
    "print(f\"Starting Cube: [heuristic: {starting_hstate}]\")\n",
    "CubeView(starting_cube).draw_projection()"
   ]
  },
  {
   "cell_type": "code",
   "execution_count": null,
   "metadata": {},
   "outputs": [],
   "source": [
    "%%time\n",
    "solved, moves, rootnode = DirectSolver.solve_cube(direct_cube, csolver)"
   ]
  },
  {
   "cell_type": "code",
   "execution_count": null,
   "metadata": {},
   "outputs": [],
   "source": [
    "nmoves = 20\n",
    "\n",
    "# ROLLOUT (explores cyclic moves)\n",
    "for i, moves in enumerate(csolver.cycles):\n",
    "#{\n",
    "    applied_moves = []\n",
    "    rollout_cube = DirectCube(cube)\n",
    "    for j in range(nmoves if nmoves else len(moves)):\n",
    "    #{\n",
    "        a = time.time()\n",
    "        mv = moves[j%len(moves)]\n",
    "        applied_moves.append(mv)\n",
    "        rollout_cube.rotate(mv)\n",
    "        rot_time.append(time.time() - a)\n",
    "\n",
    "        b = time.time()\n",
    "        k = tuple(rollout_cube.state())\n",
    "        if k not in rollout_cache:\n",
    "            rollout_cache[k] = heuristic_fcn(rollout_cube)\n",
    "            if rollout_cache[k] > best_value:\n",
    "                best_value = rollout_cache[k]\n",
    "                best_moves = list(applied_moves)\n",
    "                best_state = rollout_cube.state()\n",
    "                is_new_best_state = True\n",
    "        h_time.append(time.time() - b)\n",
    "    #}\n",
    "#}"
   ]
  },
  {
   "cell_type": "code",
   "execution_count": null,
   "metadata": {},
   "outputs": [],
   "source": [
    "cube_dict = {}\n",
    "cube = VectorCube()\n",
    "pos_cn = cube.facelet_matrix[2:,0]\n",
    "pos_ed = cube.facelet_matrix[2:,1]\n",
    "\n",
    "for i in range(10000):\n",
    "#{\n",
    "    cube.scramble()\n",
    "    diff_sq = (pos_cn - pos_ed)**2\n",
    "    if sum(np.logical_or(np.logical_or((diff_sq == [4,0,0]), (diff_sq == [0,4,0])), (diff_sq == [0,0,4]))) == 3:\n",
    "        cube_dict[tuple(np.concatenate((pos_cn, pos_ed)))] = cube.state()\n",
    "#}\n",
    "    "
   ]
  },
  {
   "cell_type": "code",
   "execution_count": null,
   "metadata": {},
   "outputs": [],
   "source": [
    "view = CubeView(VectorCube())\n",
    "for i, k in enumerate(cube_dict.keys()):\n",
    "    view.viewable_cube.reset(state=cube_dict[k])\n",
    "    view.push_snapshot(caption=f\"{i+1}\", flet_idx=[0,1])\n",
    "\n",
    "view.draw_snapshots()"
   ]
  },
  {
   "cell_type": "code",
   "execution_count": null,
   "metadata": {},
   "outputs": [],
   "source": [
    "def descend(cube, f1, f2, depth=0):\n",
    "#{\n",
    "    if depth < 2:\n",
    "    #{\n",
    "        for mv in VectorCube.MOVES:\n",
    "            cube = VectorCube(cube).rotate(mv)\n",
    "            cn_mat = np.broadcast_to(cube.facelet_matrix[2:,0].reshape((3,1)), (3,54))\n",
    "            ed_mat = np.broadcast_to(cube.facelet_matrix[2:,1].reshape((3,1)), (3,54))\n",
    "            f1.append(np.nonzero(sum(other_cube.facelet_matrix[2:] == cn_mat) == 3)[0][0])\n",
    "            f2.append(np.nonzero(sum(other_cube.facelet_matrix[2:] == ed_mat) == 3)[0][0])\n",
    "            descend(cube, f1, f2, depth+1)\n",
    "    #}\n",
    "#}\n",
    "\n",
    "f1, f2 = [],[]\n",
    "descend(VectorCube(), f1, f2)\n",
    "print(f1)\n",
    "print(f2)"
   ]
  },
  {
   "cell_type": "code",
   "execution_count": null,
   "metadata": {},
   "outputs": [],
   "source": [
    "cube = VectorCube()\n",
    "other_cube = VectorCube().scramble()\n",
    "np.nonzero(sum(other_cube.facelet_matrix[2:] == np.broadcast_to(cube.facelet_matrix[2:,0].reshape((3,1)), (3,54))) == 3)[0][0]"
   ]
  },
  {
   "cell_type": "code",
   "execution_count": null,
   "metadata": {},
   "outputs": [],
   "source": [
    "cube.facelet_matrix[2:,[0,1]].T"
   ]
  },
  {
   "cell_type": "code",
   "execution_count": 133,
   "metadata": {},
   "outputs": [
    {
     "name": "stdout",
     "output_type": "stream",
     "text": [
      "[1 3 5 7]\n",
      "(0, (38, 41))\n",
      "(1, (38, 41))\n",
      "(2, (38, 41))\n",
      "(3, (38, 41))\n",
      "(4, (38, 41))\n",
      "[ 1  3  5  7 38 41]\n",
      "(0, (36, 39))\n",
      "(1, (36, 39))\n",
      "(2, (36, 39))\n",
      "(3, (36, 39))\n",
      "(4, (36, 39))\n",
      "[ 1  3  5  7 38 41 36 39]\n",
      "(0, (18, 21))\n",
      "(1, (18, 21))\n",
      "(2, (18, 21))\n",
      "(3, (18, 21))\n",
      "(4, (18, 21))\n",
      "[ 1  3  5  7 38 41 36 39 18 21]\n",
      "(0, (20, 23))\n",
      "(1, (20, 23))\n",
      "(2, (20, 23))\n",
      "(3, (20, 23))\n",
      "(4, (20, 23))\n"
     ]
    }
   ],
   "source": [
    "from CfopCube import CfopCube, CROSS, F2L\n",
    "\n",
    "index = CfopCube.CFOP_IDXS[(CROSS, WHITE_CB)]\n",
    "for cn_pair in CfopCube.CFOP_IDXS[(F2L, WHITE_CB)][:,:2]:\n",
    "    print(index)\n",
    "    index = np.concatenate((index, cn_pair))\n",
    "    for depth in range(5):\n",
    "        key = tuple((depth, tuple(cn_pair)))\n",
    "        print(key)\n"
   ]
  },
  {
   "cell_type": "code",
   "execution_count": 255,
   "metadata": {},
   "outputs": [],
   "source": [
    "# def five_deep(cube, dstates, depth=0):\n",
    "# #{\n",
    "#     if depth < 5:\n",
    "#     #{\n",
    "#         for mv in VectorCube.MOVES:\n",
    "#             cube = VectorCube(cube).rotate(mv)\n",
    "#             five_deep(cube, dstates, depth+1)\n",
    "#             if (cube.solved(flet_index=CfopCube.CFOP_IDXS[(CROSS, WHITE_CB)]) and \n",
    "#                 (tuple(VectorCube._facelet_matrix[2:, [38,41]].T.flatten()) != \n",
    "#                  tuple(cube.facelet_matrix[2:, [38,41]].T.flatten()))):\n",
    "#                 dstates[depth].append(cube.state())\n",
    "#     #}\n",
    "# #}\n",
    "\n",
    "# def five_deep(cube, dstates=None, depth=0):\n",
    "# #{    \n",
    "#     if dstates is None: dstates = {tuple((depth, tuple(cn_pair))): [] for cn_pair in \n",
    "#                                    CfopCube.CFOP_IDXS[(F2L, WHITE_CB)][:,:2] for depth in range(5)}\n",
    "\n",
    "#     if depth < 5:\n",
    "#     #{\n",
    "#         for mv in VectorCube.MOVES:\n",
    "#             mv_cube = VectorCube(cube).rotate(mv)\n",
    "#             five_deep(mv_cube, dstates, depth+1)\n",
    "#             index = CfopCube.CFOP_IDXS[(CROSS, WHITE_CB)]\n",
    "#             for cn_pair in CfopCube.CFOP_IDXS[(F2L, WHITE_CB)][:,:2]:\n",
    "#                 key = tuple((depth, tuple(cn_pair)))\n",
    "#                 if (mv_cube.solved(flet_index=index)): dstates[key].append(mv_cube.state()) #; print(mv, index)\n",
    "#                 index = np.concatenate((index, cn_pair))\n",
    "#     #}\n",
    "    \n",
    "#     return dstates\n",
    "# #}\n",
    "\n",
    "def five_deep(cube=None, dstates=None, depth=0):\n",
    "#{\n",
    "    if cube is None: cube = VectorCube()\n",
    "    if dstates is None: dstates = {tuple((depth, tuple(cn_pair))): [] for cn_pair in \n",
    "        CfopCube.CFOP_IDXS[(F2L, WHITE_CB)][:,:2] for depth in range(5)}\n",
    "\n",
    "    if depth < 5:\n",
    "    #{\n",
    "        for mv in VectorCube.MOVES:\n",
    "            mv_cube = VectorCube(cube).rotate(mv)\n",
    "            five_deep(mv_cube, dstates, depth+1)\n",
    "            index = CfopCube.CFOP_IDXS[(CROSS, WHITE_CB)]\n",
    "            for cn_pair in CfopCube.CFOP_IDXS[(F2L, WHITE_CB)][:,:2]:\n",
    "                key = tuple((depth, tuple(cn_pair)))\n",
    "                if (mv_cube.solved(flet_index=index)): dstates[key].append(mv_cube.state()) #; print(mv, index)\n",
    "                index = np.concatenate((index, cn_pair))\n",
    "    #}\n",
    "\n",
    "    return dstates\n",
    "#}"
   ]
  },
  {
   "cell_type": "code",
   "execution_count": 256,
   "metadata": {},
   "outputs": [
    {
     "ename": "KeyboardInterrupt",
     "evalue": "",
     "output_type": "error",
     "traceback": [
      "\u001b[0;31m---------------------------------------------------------------------------\u001b[0m",
      "\u001b[0;31mKeyboardInterrupt\u001b[0m                         Traceback (most recent call last)",
      "\u001b[0;32m<timed exec>\u001b[0m in \u001b[0;36m<module>\u001b[0;34m\u001b[0m\n",
      "\u001b[0;32m<ipython-input-255-ab1e472f7419>\u001b[0m in \u001b[0;36mfive_deep\u001b[0;34m(cube, dstates, depth)\u001b[0m\n\u001b[1;32m     43\u001b[0m         \u001b[0;32mfor\u001b[0m \u001b[0mmv\u001b[0m \u001b[0;32min\u001b[0m \u001b[0mVectorCube\u001b[0m\u001b[0;34m.\u001b[0m\u001b[0mMOVES\u001b[0m\u001b[0;34m:\u001b[0m\u001b[0;34m\u001b[0m\u001b[0;34m\u001b[0m\u001b[0m\n\u001b[1;32m     44\u001b[0m             \u001b[0mmv_cube\u001b[0m \u001b[0;34m=\u001b[0m \u001b[0mVectorCube\u001b[0m\u001b[0;34m(\u001b[0m\u001b[0mcube\u001b[0m\u001b[0;34m)\u001b[0m\u001b[0;34m.\u001b[0m\u001b[0mrotate\u001b[0m\u001b[0;34m(\u001b[0m\u001b[0mmv\u001b[0m\u001b[0;34m)\u001b[0m\u001b[0;34m\u001b[0m\u001b[0;34m\u001b[0m\u001b[0m\n\u001b[0;32m---> 45\u001b[0;31m             \u001b[0mfive_deep\u001b[0m\u001b[0;34m(\u001b[0m\u001b[0mmv_cube\u001b[0m\u001b[0;34m,\u001b[0m \u001b[0mdstates\u001b[0m\u001b[0;34m,\u001b[0m \u001b[0mdepth\u001b[0m\u001b[0;34m+\u001b[0m\u001b[0;36m1\u001b[0m\u001b[0;34m)\u001b[0m\u001b[0;34m\u001b[0m\u001b[0;34m\u001b[0m\u001b[0m\n\u001b[0m\u001b[1;32m     46\u001b[0m             \u001b[0mindex\u001b[0m \u001b[0;34m=\u001b[0m \u001b[0mCfopCube\u001b[0m\u001b[0;34m.\u001b[0m\u001b[0mCFOP_IDXS\u001b[0m\u001b[0;34m[\u001b[0m\u001b[0;34m(\u001b[0m\u001b[0mCROSS\u001b[0m\u001b[0;34m,\u001b[0m \u001b[0mWHITE_CB\u001b[0m\u001b[0;34m)\u001b[0m\u001b[0;34m]\u001b[0m\u001b[0;34m\u001b[0m\u001b[0;34m\u001b[0m\u001b[0m\n\u001b[1;32m     47\u001b[0m             \u001b[0;32mfor\u001b[0m \u001b[0mcn_pair\u001b[0m \u001b[0;32min\u001b[0m \u001b[0mCfopCube\u001b[0m\u001b[0;34m.\u001b[0m\u001b[0mCFOP_IDXS\u001b[0m\u001b[0;34m[\u001b[0m\u001b[0;34m(\u001b[0m\u001b[0mF2L\u001b[0m\u001b[0;34m,\u001b[0m \u001b[0mWHITE_CB\u001b[0m\u001b[0;34m)\u001b[0m\u001b[0;34m]\u001b[0m\u001b[0;34m[\u001b[0m\u001b[0;34m:\u001b[0m\u001b[0;34m,\u001b[0m\u001b[0;34m:\u001b[0m\u001b[0;36m2\u001b[0m\u001b[0;34m]\u001b[0m\u001b[0;34m:\u001b[0m\u001b[0;34m\u001b[0m\u001b[0;34m\u001b[0m\u001b[0m\n",
      "\u001b[0;32m<ipython-input-255-ab1e472f7419>\u001b[0m in \u001b[0;36mfive_deep\u001b[0;34m(cube, dstates, depth)\u001b[0m\n\u001b[1;32m     43\u001b[0m         \u001b[0;32mfor\u001b[0m \u001b[0mmv\u001b[0m \u001b[0;32min\u001b[0m \u001b[0mVectorCube\u001b[0m\u001b[0;34m.\u001b[0m\u001b[0mMOVES\u001b[0m\u001b[0;34m:\u001b[0m\u001b[0;34m\u001b[0m\u001b[0;34m\u001b[0m\u001b[0m\n\u001b[1;32m     44\u001b[0m             \u001b[0mmv_cube\u001b[0m \u001b[0;34m=\u001b[0m \u001b[0mVectorCube\u001b[0m\u001b[0;34m(\u001b[0m\u001b[0mcube\u001b[0m\u001b[0;34m)\u001b[0m\u001b[0;34m.\u001b[0m\u001b[0mrotate\u001b[0m\u001b[0;34m(\u001b[0m\u001b[0mmv\u001b[0m\u001b[0;34m)\u001b[0m\u001b[0;34m\u001b[0m\u001b[0;34m\u001b[0m\u001b[0m\n\u001b[0;32m---> 45\u001b[0;31m             \u001b[0mfive_deep\u001b[0m\u001b[0;34m(\u001b[0m\u001b[0mmv_cube\u001b[0m\u001b[0;34m,\u001b[0m \u001b[0mdstates\u001b[0m\u001b[0;34m,\u001b[0m \u001b[0mdepth\u001b[0m\u001b[0;34m+\u001b[0m\u001b[0;36m1\u001b[0m\u001b[0;34m)\u001b[0m\u001b[0;34m\u001b[0m\u001b[0;34m\u001b[0m\u001b[0m\n\u001b[0m\u001b[1;32m     46\u001b[0m             \u001b[0mindex\u001b[0m \u001b[0;34m=\u001b[0m \u001b[0mCfopCube\u001b[0m\u001b[0;34m.\u001b[0m\u001b[0mCFOP_IDXS\u001b[0m\u001b[0;34m[\u001b[0m\u001b[0;34m(\u001b[0m\u001b[0mCROSS\u001b[0m\u001b[0;34m,\u001b[0m \u001b[0mWHITE_CB\u001b[0m\u001b[0;34m)\u001b[0m\u001b[0;34m]\u001b[0m\u001b[0;34m\u001b[0m\u001b[0;34m\u001b[0m\u001b[0m\n\u001b[1;32m     47\u001b[0m             \u001b[0;32mfor\u001b[0m \u001b[0mcn_pair\u001b[0m \u001b[0;32min\u001b[0m \u001b[0mCfopCube\u001b[0m\u001b[0;34m.\u001b[0m\u001b[0mCFOP_IDXS\u001b[0m\u001b[0;34m[\u001b[0m\u001b[0;34m(\u001b[0m\u001b[0mF2L\u001b[0m\u001b[0;34m,\u001b[0m \u001b[0mWHITE_CB\u001b[0m\u001b[0;34m)\u001b[0m\u001b[0;34m]\u001b[0m\u001b[0;34m[\u001b[0m\u001b[0;34m:\u001b[0m\u001b[0;34m,\u001b[0m\u001b[0;34m:\u001b[0m\u001b[0;36m2\u001b[0m\u001b[0;34m]\u001b[0m\u001b[0;34m:\u001b[0m\u001b[0;34m\u001b[0m\u001b[0;34m\u001b[0m\u001b[0m\n",
      "\u001b[0;32m<ipython-input-255-ab1e472f7419>\u001b[0m in \u001b[0;36mfive_deep\u001b[0;34m(cube, dstates, depth)\u001b[0m\n\u001b[1;32m     43\u001b[0m         \u001b[0;32mfor\u001b[0m \u001b[0mmv\u001b[0m \u001b[0;32min\u001b[0m \u001b[0mVectorCube\u001b[0m\u001b[0;34m.\u001b[0m\u001b[0mMOVES\u001b[0m\u001b[0;34m:\u001b[0m\u001b[0;34m\u001b[0m\u001b[0;34m\u001b[0m\u001b[0m\n\u001b[1;32m     44\u001b[0m             \u001b[0mmv_cube\u001b[0m \u001b[0;34m=\u001b[0m \u001b[0mVectorCube\u001b[0m\u001b[0;34m(\u001b[0m\u001b[0mcube\u001b[0m\u001b[0;34m)\u001b[0m\u001b[0;34m.\u001b[0m\u001b[0mrotate\u001b[0m\u001b[0;34m(\u001b[0m\u001b[0mmv\u001b[0m\u001b[0;34m)\u001b[0m\u001b[0;34m\u001b[0m\u001b[0;34m\u001b[0m\u001b[0m\n\u001b[0;32m---> 45\u001b[0;31m             \u001b[0mfive_deep\u001b[0m\u001b[0;34m(\u001b[0m\u001b[0mmv_cube\u001b[0m\u001b[0;34m,\u001b[0m \u001b[0mdstates\u001b[0m\u001b[0;34m,\u001b[0m \u001b[0mdepth\u001b[0m\u001b[0;34m+\u001b[0m\u001b[0;36m1\u001b[0m\u001b[0;34m)\u001b[0m\u001b[0;34m\u001b[0m\u001b[0;34m\u001b[0m\u001b[0m\n\u001b[0m\u001b[1;32m     46\u001b[0m             \u001b[0mindex\u001b[0m \u001b[0;34m=\u001b[0m \u001b[0mCfopCube\u001b[0m\u001b[0;34m.\u001b[0m\u001b[0mCFOP_IDXS\u001b[0m\u001b[0;34m[\u001b[0m\u001b[0;34m(\u001b[0m\u001b[0mCROSS\u001b[0m\u001b[0;34m,\u001b[0m \u001b[0mWHITE_CB\u001b[0m\u001b[0;34m)\u001b[0m\u001b[0;34m]\u001b[0m\u001b[0;34m\u001b[0m\u001b[0;34m\u001b[0m\u001b[0m\n\u001b[1;32m     47\u001b[0m             \u001b[0;32mfor\u001b[0m \u001b[0mcn_pair\u001b[0m \u001b[0;32min\u001b[0m \u001b[0mCfopCube\u001b[0m\u001b[0;34m.\u001b[0m\u001b[0mCFOP_IDXS\u001b[0m\u001b[0;34m[\u001b[0m\u001b[0;34m(\u001b[0m\u001b[0mF2L\u001b[0m\u001b[0;34m,\u001b[0m \u001b[0mWHITE_CB\u001b[0m\u001b[0;34m)\u001b[0m\u001b[0;34m]\u001b[0m\u001b[0;34m[\u001b[0m\u001b[0;34m:\u001b[0m\u001b[0;34m,\u001b[0m\u001b[0;34m:\u001b[0m\u001b[0;36m2\u001b[0m\u001b[0;34m]\u001b[0m\u001b[0;34m:\u001b[0m\u001b[0;34m\u001b[0m\u001b[0;34m\u001b[0m\u001b[0m\n",
      "\u001b[0;32m<ipython-input-255-ab1e472f7419>\u001b[0m in \u001b[0;36mfive_deep\u001b[0;34m(cube, dstates, depth)\u001b[0m\n\u001b[1;32m     43\u001b[0m         \u001b[0;32mfor\u001b[0m \u001b[0mmv\u001b[0m \u001b[0;32min\u001b[0m \u001b[0mVectorCube\u001b[0m\u001b[0;34m.\u001b[0m\u001b[0mMOVES\u001b[0m\u001b[0;34m:\u001b[0m\u001b[0;34m\u001b[0m\u001b[0;34m\u001b[0m\u001b[0m\n\u001b[1;32m     44\u001b[0m             \u001b[0mmv_cube\u001b[0m \u001b[0;34m=\u001b[0m \u001b[0mVectorCube\u001b[0m\u001b[0;34m(\u001b[0m\u001b[0mcube\u001b[0m\u001b[0;34m)\u001b[0m\u001b[0;34m.\u001b[0m\u001b[0mrotate\u001b[0m\u001b[0;34m(\u001b[0m\u001b[0mmv\u001b[0m\u001b[0;34m)\u001b[0m\u001b[0;34m\u001b[0m\u001b[0;34m\u001b[0m\u001b[0m\n\u001b[0;32m---> 45\u001b[0;31m             \u001b[0mfive_deep\u001b[0m\u001b[0;34m(\u001b[0m\u001b[0mmv_cube\u001b[0m\u001b[0;34m,\u001b[0m \u001b[0mdstates\u001b[0m\u001b[0;34m,\u001b[0m \u001b[0mdepth\u001b[0m\u001b[0;34m+\u001b[0m\u001b[0;36m1\u001b[0m\u001b[0;34m)\u001b[0m\u001b[0;34m\u001b[0m\u001b[0;34m\u001b[0m\u001b[0m\n\u001b[0m\u001b[1;32m     46\u001b[0m             \u001b[0mindex\u001b[0m \u001b[0;34m=\u001b[0m \u001b[0mCfopCube\u001b[0m\u001b[0;34m.\u001b[0m\u001b[0mCFOP_IDXS\u001b[0m\u001b[0;34m[\u001b[0m\u001b[0;34m(\u001b[0m\u001b[0mCROSS\u001b[0m\u001b[0;34m,\u001b[0m \u001b[0mWHITE_CB\u001b[0m\u001b[0;34m)\u001b[0m\u001b[0;34m]\u001b[0m\u001b[0;34m\u001b[0m\u001b[0;34m\u001b[0m\u001b[0m\n\u001b[1;32m     47\u001b[0m             \u001b[0;32mfor\u001b[0m \u001b[0mcn_pair\u001b[0m \u001b[0;32min\u001b[0m \u001b[0mCfopCube\u001b[0m\u001b[0;34m.\u001b[0m\u001b[0mCFOP_IDXS\u001b[0m\u001b[0;34m[\u001b[0m\u001b[0;34m(\u001b[0m\u001b[0mF2L\u001b[0m\u001b[0;34m,\u001b[0m \u001b[0mWHITE_CB\u001b[0m\u001b[0;34m)\u001b[0m\u001b[0;34m]\u001b[0m\u001b[0;34m[\u001b[0m\u001b[0;34m:\u001b[0m\u001b[0;34m,\u001b[0m\u001b[0;34m:\u001b[0m\u001b[0;36m2\u001b[0m\u001b[0;34m]\u001b[0m\u001b[0;34m:\u001b[0m\u001b[0;34m\u001b[0m\u001b[0;34m\u001b[0m\u001b[0m\n",
      "\u001b[0;32m<ipython-input-255-ab1e472f7419>\u001b[0m in \u001b[0;36mfive_deep\u001b[0;34m(cube, dstates, depth)\u001b[0m\n\u001b[1;32m     47\u001b[0m             \u001b[0;32mfor\u001b[0m \u001b[0mcn_pair\u001b[0m \u001b[0;32min\u001b[0m \u001b[0mCfopCube\u001b[0m\u001b[0;34m.\u001b[0m\u001b[0mCFOP_IDXS\u001b[0m\u001b[0;34m[\u001b[0m\u001b[0;34m(\u001b[0m\u001b[0mF2L\u001b[0m\u001b[0;34m,\u001b[0m \u001b[0mWHITE_CB\u001b[0m\u001b[0;34m)\u001b[0m\u001b[0;34m]\u001b[0m\u001b[0;34m[\u001b[0m\u001b[0;34m:\u001b[0m\u001b[0;34m,\u001b[0m\u001b[0;34m:\u001b[0m\u001b[0;36m2\u001b[0m\u001b[0;34m]\u001b[0m\u001b[0;34m:\u001b[0m\u001b[0;34m\u001b[0m\u001b[0;34m\u001b[0m\u001b[0m\n\u001b[1;32m     48\u001b[0m                 \u001b[0mkey\u001b[0m \u001b[0;34m=\u001b[0m \u001b[0mtuple\u001b[0m\u001b[0;34m(\u001b[0m\u001b[0;34m(\u001b[0m\u001b[0mdepth\u001b[0m\u001b[0;34m,\u001b[0m \u001b[0mtuple\u001b[0m\u001b[0;34m(\u001b[0m\u001b[0mcn_pair\u001b[0m\u001b[0;34m)\u001b[0m\u001b[0;34m)\u001b[0m\u001b[0;34m)\u001b[0m\u001b[0;34m\u001b[0m\u001b[0;34m\u001b[0m\u001b[0m\n\u001b[0;32m---> 49\u001b[0;31m                 \u001b[0;32mif\u001b[0m \u001b[0;34m(\u001b[0m\u001b[0mmv_cube\u001b[0m\u001b[0;34m.\u001b[0m\u001b[0msolved\u001b[0m\u001b[0;34m(\u001b[0m\u001b[0mflet_index\u001b[0m\u001b[0;34m=\u001b[0m\u001b[0mindex\u001b[0m\u001b[0;34m)\u001b[0m\u001b[0;34m)\u001b[0m\u001b[0;34m:\u001b[0m \u001b[0mdstates\u001b[0m\u001b[0;34m[\u001b[0m\u001b[0mkey\u001b[0m\u001b[0;34m]\u001b[0m\u001b[0;34m.\u001b[0m\u001b[0mappend\u001b[0m\u001b[0;34m(\u001b[0m\u001b[0mmv_cube\u001b[0m\u001b[0;34m.\u001b[0m\u001b[0mstate\u001b[0m\u001b[0;34m(\u001b[0m\u001b[0;34m)\u001b[0m\u001b[0;34m)\u001b[0m \u001b[0;31m#; print(mv, index)\u001b[0m\u001b[0;34m\u001b[0m\u001b[0;34m\u001b[0m\u001b[0m\n\u001b[0m\u001b[1;32m     50\u001b[0m                 \u001b[0mindex\u001b[0m \u001b[0;34m=\u001b[0m \u001b[0mnp\u001b[0m\u001b[0;34m.\u001b[0m\u001b[0mconcatenate\u001b[0m\u001b[0;34m(\u001b[0m\u001b[0;34m(\u001b[0m\u001b[0mindex\u001b[0m\u001b[0;34m,\u001b[0m \u001b[0mcn_pair\u001b[0m\u001b[0;34m)\u001b[0m\u001b[0;34m)\u001b[0m\u001b[0;34m\u001b[0m\u001b[0;34m\u001b[0m\u001b[0m\n\u001b[1;32m     51\u001b[0m     \u001b[0;31m#}\u001b[0m\u001b[0;34m\u001b[0m\u001b[0;34m\u001b[0m\u001b[0;34m\u001b[0m\u001b[0m\n",
      "\u001b[0;32m~/OneDrive/iMac/Development/rubiks-cube/VectorCube.py\u001b[0m in \u001b[0;36msolved\u001b[0;34m(self, flet_index)\u001b[0m\n\u001b[1;32m    180\u001b[0m     \u001b[0;32mdef\u001b[0m \u001b[0msolved\u001b[0m\u001b[0;34m(\u001b[0m\u001b[0mself\u001b[0m\u001b[0;34m,\u001b[0m \u001b[0mflet_index\u001b[0m\u001b[0;34m=\u001b[0m\u001b[0;32mNone\u001b[0m\u001b[0;34m)\u001b[0m\u001b[0;34m:\u001b[0m\u001b[0;34m\u001b[0m\u001b[0;34m\u001b[0m\u001b[0m\n\u001b[1;32m    181\u001b[0m         \u001b[0mlogical\u001b[0m \u001b[0;34m=\u001b[0m \u001b[0mself\u001b[0m\u001b[0;34m.\u001b[0m\u001b[0mcompare\u001b[0m\u001b[0;34m(\u001b[0m\u001b[0mflet_index\u001b[0m\u001b[0;34m=\u001b[0m\u001b[0mflet_index\u001b[0m\u001b[0;34m)\u001b[0m\u001b[0;34m\u001b[0m\u001b[0;34m\u001b[0m\u001b[0m\n\u001b[0;32m--> 182\u001b[0;31m         \u001b[0;32mreturn\u001b[0m \u001b[0msum\u001b[0m\u001b[0;34m(\u001b[0m\u001b[0msum\u001b[0m\u001b[0;34m(\u001b[0m\u001b[0mlogical\u001b[0m\u001b[0;34m)\u001b[0m\u001b[0;34m)\u001b[0m \u001b[0;34m==\u001b[0m \u001b[0;34m(\u001b[0m\u001b[0mlogical\u001b[0m\u001b[0;34m.\u001b[0m\u001b[0mshape\u001b[0m\u001b[0;34m[\u001b[0m\u001b[0;36m0\u001b[0m\u001b[0;34m]\u001b[0m \u001b[0;34m*\u001b[0m \u001b[0mlogical\u001b[0m\u001b[0;34m.\u001b[0m\u001b[0mshape\u001b[0m\u001b[0;34m[\u001b[0m\u001b[0;36m1\u001b[0m\u001b[0;34m]\u001b[0m\u001b[0;34m)\u001b[0m\u001b[0;34m\u001b[0m\u001b[0;34m\u001b[0m\u001b[0m\n\u001b[0m\u001b[1;32m    183\u001b[0m \u001b[0;34m\u001b[0m\u001b[0m\n\u001b[1;32m    184\u001b[0m     \u001b[0;31m# Bit faster than solved(...) above\u001b[0m\u001b[0;34m\u001b[0m\u001b[0;34m\u001b[0m\u001b[0;34m\u001b[0m\u001b[0m\n",
      "\u001b[0;31mKeyboardInterrupt\u001b[0m: "
     ]
    }
   ],
   "source": [
    "%%time\n",
    "\n",
    "# f2l_cube = VectorCube()\n",
    "# CubeView(f2l_cube).draw_projection()\n",
    "dstates = five_deep()"
   ]
  },
  {
   "cell_type": "code",
   "execution_count": 216,
   "metadata": {},
   "outputs": [
    {
     "name": "stdout",
     "output_type": "stream",
     "text": [
      "(0, (38, 41)) 3\n",
      "(1, (38, 41)) 24\n",
      "(2, (38, 41)) 180\n",
      "(3, (38, 41)) 1640\n",
      "(4, (38, 41)) 15504\n",
      "(0, (36, 39)) 3\n",
      "(1, (36, 39)) 24\n",
      "(2, (36, 39)) 174\n",
      "(3, (36, 39)) 1552\n",
      "(4, (36, 39)) 13986\n",
      "(0, (18, 21)) 3\n",
      "(1, (18, 21)) 24\n",
      "(2, (18, 21)) 168\n",
      "(3, (18, 21)) 1472\n",
      "(4, (18, 21)) 12756\n",
      "(0, (20, 23)) 3\n",
      "(1, (20, 23)) 24\n",
      "(2, (20, 23)) 162\n",
      "(3, (20, 23)) 1394\n",
      "(4, (20, 23)) 11660\n"
     ]
    }
   ],
   "source": [
    "for k, vals in dstates.items():\n",
    "    print(k, len(vals))"
   ]
  },
  {
   "cell_type": "code",
   "execution_count": 217,
   "metadata": {},
   "outputs": [
    {
     "name": "stdout",
     "output_type": "stream",
     "text": [
      "11904\n"
     ]
    },
    {
     "data": {
      "image/png": "[encoded data removed]",
      "text/plain": [
       "<Figure size 1728x216 with 1 Axes>"
      ]
     },
     "metadata": {
      "needs_background": "light"
     },
     "output_type": "display_data"
    },
    {
     "data": {
      "image/png": "[encoded data removed]",
      "text/plain": [
       "<Figure size 1728x216 with 1 Axes>"
      ]
     },
     "metadata": {
      "needs_background": "light"
     },
     "output_type": "display_data"
    },
    {
     "data": {
      "image/png": "[encoded data removed]",
      "text/plain": [
       "<Figure size 1728x216 with 1 Axes>"
      ]
     },
     "metadata": {
      "needs_background": "light"
     },
     "output_type": "display_data"
    },
    {
     "data": {
      "image/png": "[encoded data removed]",
      "text/plain": [
       "<Figure size 1728x216 with 1 Axes>"
      ]
     },
     "metadata": {
      "needs_background": "light"
     },
     "output_type": "display_data"
    }
   ],
   "source": [
    "view = CubeView(VectorCube())\n",
    "\n",
    "count = 0\n",
    "key = (4, (38,41))\n",
    "for i, state in enumerate(dstates[key]):\n",
    "    view.viewable_cube.reset(state=state)\n",
    "    if not view.viewable_cube.solved():\n",
    "        if count < 20: view.push_snapshot(caption=f\"{count}\")\n",
    "        count += 1\n",
    "\n",
    "print(count)\n",
    "view.draw_snapshots()"
   ]
  },
  {
   "cell_type": "code",
   "execution_count": 252,
   "metadata": {},
   "outputs": [
    {
     "name": "stdout",
     "output_type": "stream",
     "text": [
      "(38, 41) 91\n",
      "(36, 39) 70\n",
      "(18, 21) 53\n",
      "(20, 23) 21\n"
     ]
    }
   ],
   "source": [
    "posdict = { k[1]: set() for k in dstates.keys() }\n",
    "for k in dstates.keys():\n",
    "    for state in dstates[k]: \n",
    "        posdict[k[1]].add(tuple(VectorCube().reset(state=state).\n",
    "                                facelet_matrix[2:, k[1]].T.flatten()))\n",
    "\n",
    "for k, posset in posdict.items(): print(k, len(posset))\n",
    "pos_blocks = { k: np.zeros((len(posset),3,2), dtype=int) for k, posset in posdict.items() }"
   ]
  },
  {
   "cell_type": "code",
   "execution_count": 250,
   "metadata": {},
   "outputs": [
    {
     "name": "stdout",
     "output_type": "stream",
     "text": [
      "(38, 41) (91, 3, 2)\n",
      "(36, 39) (70, 3, 2)\n",
      "(18, 21) (53, 3, 2)\n",
      "(20, 23) (21, 3, 2)\n"
     ]
    }
   ],
   "source": [
    "for k, posset in posdict.items():\n",
    "    for i, pos_pair in enumerate(posset):\n",
    "        pos_blocks[k][i,:,:] = np.array(pos_pair).reshape((2,3)).T\n",
    "    \n",
    "    print(k, pos_blocks[k].shape)\n",
    "#     print(pos_blocks[k])"
   ]
  },
  {
   "cell_type": "code",
   "execution_count": 105,
   "metadata": {},
   "outputs": [
    {
     "data": {
      "text/plain": [
       "array([[[-3, -3],\n",
       "        [-2, -2],\n",
       "        [ 2,  0]],\n",
       "\n",
       "       [[ 7,  8],\n",
       "        [ 9, 10],\n",
       "        [11, 12]]])"
      ]
     },
     "execution_count": 105,
     "metadata": {},
     "output_type": "execute_result"
    }
   ],
   "source": [
    "a = np.array([[-3,-3],[-2,-2],[2,0]])\n",
    "b = np.array([[7,8],[9,10],[11,12]])\n",
    "c = np.array([a,b])\n",
    "c\n",
    "\n"
   ]
  },
  {
   "cell_type": "code",
   "execution_count": 113,
   "metadata": {},
   "outputs": [
    {
     "name": "stdout",
     "output_type": "stream",
     "text": [
      "[[[ True  True]\n",
      "  [ True  True]\n",
      "  [ True  True]]\n",
      "\n",
      " [[False False]\n",
      "  [False False]\n",
      "  [False False]]]\n"
     ]
    },
    {
     "data": {
      "text/plain": [
       "True"
      ]
     },
     "execution_count": 113,
     "metadata": {},
     "output_type": "execute_result"
    }
   ],
   "source": [
    "block = np.broadcast_to(VectorCube().facelet_matrix[2:, [38,41]], (2,3,2))\n",
    "print(c == block)\n",
    "sum(np.sum((c == block), axis=(1,2)) == 6) > 0"
   ]
  },
  {
   "cell_type": "code",
   "execution_count": null,
   "metadata": {},
   "outputs": [],
   "source": []
  }
 ],
 "metadata": {
  "kernelspec": {
   "display_name": "Python 3",
   "language": "python",
   "name": "python3"
  },
  "language_info": {
   "codemirror_mode": {
    "name": "ipython",
    "version": 3
   },
   "file_extension": ".py",
   "mimetype": "text/x-python",
   "name": "python",
   "nbconvert_exporter": "python",
   "pygments_lexer": "ipython3",
   "version": "3.7.2"
  }
 },
 "nbformat": 4,
 "nbformat_minor": 2
}
